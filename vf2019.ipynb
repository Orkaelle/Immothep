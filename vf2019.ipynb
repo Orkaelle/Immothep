{
 "metadata": {
  "language_info": {
   "codemirror_mode": {
    "name": "ipython",
    "version": 3
   },
   "file_extension": ".py",
   "mimetype": "text/x-python",
   "name": "python",
   "nbconvert_exporter": "python",
   "pygments_lexer": "ipython3",
   "version": "3.7.9-final"
  },
  "orig_nbformat": 2,
  "kernelspec": {
   "name": "Python 3.7.9 64-bit ('Immothep': conda)",
   "display_name": "Python 3.7.9 64-bit ('Immothep': conda)",
   "metadata": {
    "interpreter": {
     "hash": "e23950344c2a0a328c0fcc8ab723357c9a53bd93bcbd0101baa32fa2fa15de81"
    }
   }
  }
 },
 "nbformat": 4,
 "nbformat_minor": 2,
 "cells": [
  {
   "cell_type": "code",
   "execution_count": 2,
   "metadata": {},
   "outputs": [],
   "source": [
    "%load_ext autoreload\n",
    "%autoreload 2\n",
    "\n",
    "from functions import split\n"
   ]
  },
  {
   "cell_type": "code",
   "execution_count": 3,
   "metadata": {
    "tags": []
   },
   "outputs": [
    {
     "output_type": "stream",
     "name": "stdout",
     "text": "Split fichier valeursfoncieres-2019.txt terminé\n"
    }
   ],
   "source": [
    "# Création de l'instance de classe\n",
    "splitter_object = split.splitter(\"./data\", '|')\n",
    "\n",
    "splitter_object.file_splitter(\"valeursfoncieres-2019.txt\", \"Code postal\", \"code_postaux\")"
   ]
  },
  {
   "cell_type": "code",
   "execution_count": null,
   "metadata": {},
   "outputs": [],
   "source": []
  }
 ]
}